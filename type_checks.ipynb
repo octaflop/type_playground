{
 "cells": [
  {
   "cell_type": "markdown",
   "metadata": {},
   "source": [
    "# Function Annotations\n",
    "\n",
    "via [Real Python](https://realpython.com/python-type-checking/)"
   ]
  },
  {
   "cell_type": "code",
   "execution_count": 25,
   "metadata": {},
   "outputs": [],
   "source": [
    "import math"
   ]
  },
  {
   "cell_type": "code",
   "execution_count": 3,
   "metadata": {},
   "outputs": [],
   "source": [
    "def circumference(radius: float) -> float:\n",
    "    return 2 * math.pi * radius"
   ]
  },
  {
   "cell_type": "code",
   "execution_count": 4,
   "metadata": {},
   "outputs": [
    {
     "data": {
      "text/plain": [
       "7.056017099962675"
      ]
     },
     "execution_count": 4,
     "metadata": {},
     "output_type": "execute_result"
    }
   ],
   "source": [
    "circumference(1.123)"
   ]
  },
  {
   "cell_type": "code",
   "execution_count": 5,
   "metadata": {},
   "outputs": [
    {
     "data": {
      "text/plain": [
       "{'radius': float, 'return': float}"
      ]
     },
     "execution_count": 5,
     "metadata": {},
     "output_type": "execute_result"
    }
   ],
   "source": [
    "circumference.__annotations__"
   ]
  },
  {
   "cell_type": "code",
   "execution_count": 6,
   "metadata": {},
   "outputs": [
    {
     "ename": "NameError",
     "evalue": "name 'reveal_type' is not defined",
     "output_type": "error",
     "traceback": [
      "\u001b[0;31m---------------------------------------------------------------------------\u001b[0m",
      "\u001b[0;31mNameError\u001b[0m                                 Traceback (most recent call last)",
      "\u001b[0;32m<ipython-input-6-7127393c6da8>\u001b[0m in \u001b[0;36m<module>\u001b[0;34m()\u001b[0m\n\u001b[0;32m----> 1\u001b[0;31m \u001b[0mreveal_type\u001b[0m\u001b[0;34m(\u001b[0m\u001b[0mmath\u001b[0m\u001b[0;34m.\u001b[0m\u001b[0mpi\u001b[0m\u001b[0;34m)\u001b[0m\u001b[0;34m\u001b[0m\u001b[0;34m\u001b[0m\u001b[0m\n\u001b[0m",
      "\u001b[0;31mNameError\u001b[0m: name 'reveal_type' is not defined"
     ]
    }
   ],
   "source": [
    "# Use with mypy to reveal the type of a given variable\n",
    "# reveal_type(math.pi)\n",
    "# This will show all variables\n",
    "# reveal_locals()"
   ]
  },
  {
   "cell_type": "markdown",
   "metadata": {},
   "source": [
    "Variable Annotations"
   ]
  },
  {
   "cell_type": "code",
   "execution_count": 7,
   "metadata": {},
   "outputs": [],
   "source": [
    "pi: float = 3.142"
   ]
  },
  {
   "cell_type": "code",
   "execution_count": 8,
   "metadata": {},
   "outputs": [
    {
     "data": {
      "text/plain": [
       "{'pi': float}"
      ]
     },
     "execution_count": 8,
     "metadata": {},
     "output_type": "execute_result"
    }
   ],
   "source": [
    "__annotations__"
   ]
  },
  {
   "cell_type": "markdown",
   "metadata": {},
   "source": [
    "# Diving Deeper"
   ]
  },
  {
   "cell_type": "code",
   "execution_count": 10,
   "metadata": {},
   "outputs": [],
   "source": [
    "import random\n",
    "\n",
    "SUITS = \"♠ ♡ ♢ ♣\".split()\n",
    "RANKS = \"2 3 4 5 6 7 8 9 10 J Q K A\".split()\n",
    "\n",
    "def create_deck(shuffle=False):\n",
    "    \"\"\"Create a new deck of 52 cards\"\"\"\n",
    "    deck = [(s, r) for r in RANKS for s in SUITS]\n",
    "    if shuffle:\n",
    "        random.shuffle(deck)\n",
    "    return deck\n",
    "\n",
    "def deal_hands(deck):\n",
    "    \"\"\"Deal out the cards into four hands\"\"\"\n",
    "    return (deck[0::4], deck[1::4], deck[2::4], deck[3::4])\n",
    "\n",
    "def play():\n",
    "    \"\"\"Play a 4-player card game\"\"\"\n",
    "    deck = create_deck(shuffle=True)\n",
    "    names = [\"P1\", \"P2\", \"P3\", \"P4\"]\n",
    "    hands = {n: h for n, h in zip(names, deal_hands(deck))}\n",
    "    \n",
    "    for name, cards in hands.items():\n",
    "        card_str = \" \".join(f\"{s}{r}\" for (s, r) in cards)\n",
    "        print(f\"{name}: {card_str}\")\n"
   ]
  },
  {
   "cell_type": "code",
   "execution_count": 11,
   "metadata": {},
   "outputs": [
    {
     "name": "stdout",
     "output_type": "stream",
     "text": [
      "P1: ♠7 ♡4 ♢5 ♣2 ♢10 ♢4 ♣9 ♣4 ♢6 ♡J ♣10 ♠10 ♣3\n",
      "P2: ♢J ♡9 ♠3 ♠5 ♢Q ♣J ♣A ♡6 ♠J ♡10 ♣7 ♠6 ♣Q\n",
      "P3: ♡3 ♡Q ♢K ♢7 ♣K ♣6 ♢3 ♢2 ♡8 ♠9 ♢9 ♠A ♠K\n",
      "P4: ♢8 ♡A ♡K ♡7 ♡2 ♡5 ♢A ♠4 ♣8 ♣5 ♠8 ♠2 ♠Q\n"
     ]
    }
   ],
   "source": [
    "play()"
   ]
  },
  {
   "cell_type": "markdown",
   "metadata": {},
   "source": [
    "But now we want to compose our composite types. Let's try using `typing`"
   ]
  },
  {
   "cell_type": "code",
   "execution_count": 12,
   "metadata": {},
   "outputs": [],
   "source": [
    "from typing import Dict, List, Tuple"
   ]
  },
  {
   "cell_type": "code",
   "execution_count": 13,
   "metadata": {},
   "outputs": [],
   "source": [
    "names: List[str] = [\"Guido\", \"Jukka\", \"Ivan\"]\n",
    "version: Tuple[int, int, int] = (3, 8, 9)\n",
    "options: Dict[str, bool] = {\"centered\": False, \"caps\": True}"
   ]
  },
  {
   "cell_type": "markdown",
   "metadata": {},
   "source": [
    "Returning to the Card Game:"
   ]
  },
  {
   "cell_type": "code",
   "execution_count": 14,
   "metadata": {},
   "outputs": [],
   "source": [
    "def create_deck(shuffle: bool = False) -> List[Tuple[str, str]]:\n",
    "    \"\"\"Create a new deck of 52 cards\"\"\"\n",
    "    docker = [(s, r) for r in RANKS for s in SUITS]\n",
    "    if shuffle:\n",
    "        random.shuffle(deck)\n",
    "    return deck"
   ]
  },
  {
   "cell_type": "markdown",
   "metadata": {},
   "source": [
    "Supposing we just had a sequence and didn't care if it was a `list` or `tuple`:"
   ]
  },
  {
   "cell_type": "code",
   "execution_count": 15,
   "metadata": {},
   "outputs": [],
   "source": [
    "from typing import List, Sequence\n",
    "\n",
    "def square(elems: Sequence[float]) -> List[float]:\n",
    "    return [x**2 for x in elems]"
   ]
  },
  {
   "cell_type": "code",
   "execution_count": 16,
   "metadata": {},
   "outputs": [
    {
     "data": {
      "text/plain": [
       "[1, 4, 16, 25, 100]"
      ]
     },
     "execution_count": 16,
     "metadata": {},
     "output_type": "execute_result"
    }
   ],
   "source": [
    "square((1,2,4,5,10))"
   ]
  },
  {
   "cell_type": "code",
   "execution_count": 18,
   "metadata": {},
   "outputs": [
    {
     "data": {
      "text/plain": [
       "[1, 4, 16, 25, 100]"
      ]
     },
     "execution_count": 18,
     "metadata": {},
     "output_type": "execute_result"
    }
   ],
   "source": [
    "square([1,2,4,5,10])"
   ]
  },
  {
   "cell_type": "markdown",
   "metadata": {},
   "source": [
    "Now consider how `deal_hands` would look if we annotated all the possiblities... not great.\n",
    "\n",
    "So instead, we need to define our own type aliases"
   ]
  },
  {
   "cell_type": "code",
   "execution_count": 19,
   "metadata": {},
   "outputs": [],
   "source": [
    "from typing import List, Tuple\n",
    "\n",
    "Card = Tuple[str, str]\n",
    "Deck = List[Card]"
   ]
  },
  {
   "cell_type": "code",
   "execution_count": 21,
   "metadata": {},
   "outputs": [],
   "source": [
    "def deal_hands(deck: Deck) -> Tuple[Deck, Deck, Deck, Deck]:\n",
    "    \"\"\"Deal the cards in the deck into 4 hands\"\"\"\n",
    "    return (deck[0::4], deck[1::4], deck[2::4], deck[3::4])"
   ]
  },
  {
   "cell_type": "code",
   "execution_count": 22,
   "metadata": {},
   "outputs": [
    {
     "data": {
      "text/plain": [
       "typing.List[typing.Tuple[str, str]]"
      ]
     },
     "execution_count": 22,
     "metadata": {},
     "output_type": "execute_result"
    }
   ],
   "source": [
    "Deck"
   ]
  },
  {
   "cell_type": "markdown",
   "metadata": {},
   "source": [
    "We should also denote when functions don't return a value"
   ]
  },
  {
   "cell_type": "code",
   "execution_count": 23,
   "metadata": {},
   "outputs": [],
   "source": [
    "def play() -> None:\n",
    "    \"\"\"Play a 4-player card game\"\"\"\n",
    "    deck = create_deck(shuffle=True)\n",
    "    names = [\"P1\", \"P2\", \"P3\", \"P4\"]\n",
    "    hands = {n: h for n, h in zip(names, deal_hands(deck))}\n",
    "    \n",
    "    for name, cards in hands.items():\n",
    "        card_str = \" \".join(f\"{s}{r}\" for (s, r) in cards)\n",
    "        print(f\"{name}: {card_str}\")"
   ]
  },
  {
   "cell_type": "markdown",
   "metadata": {},
   "source": [
    "Something interesting: sometimes we know a function will never return normally. So use `NoReturn`"
   ]
  },
  {
   "cell_type": "code",
   "execution_count": 24,
   "metadata": {},
   "outputs": [],
   "source": [
    "from typing import NoReturn\n",
    "\n",
    "def black_hole() -> NoReturn:\n",
    "    raise Exception(\"THERE IS NO GOING BACK!\")"
   ]
  },
  {
   "cell_type": "markdown",
   "metadata": {},
   "source": [
    "### Taking it altogether"
   ]
  },
  {
   "cell_type": "code",
   "execution_count": 26,
   "metadata": {},
   "outputs": [],
   "source": [
    "import random\n",
    "from typing import List, Tuple\n",
    "\n",
    "SUITS = \"♠ ♡ ♢ ♣\".split()\n",
    "RANKS = \"2 3 4 5 6 7 8 9 10 J Q K A\".split()\n",
    "\n",
    "Card = Tuple[str, str]\n",
    "Deck = List[Card]\n",
    "\n",
    "def create_deck(shuffle: bool = False) -> Deck:\n",
    "    \"\"\"Create a new deck of 52 cards\"\"\"\n",
    "    deck = [(s, r) for r in RANKS for s in SUITS]\n",
    "    if shuffle:\n",
    "        random.shuffle(deck)\n",
    "    return deck\n",
    "\n",
    "def deal_hands(deck: Deck) -> Tuple[Deck, Deck, Deck, Deck]:\n",
    "    \"\"\"Deal out the cards into four hands\"\"\"\n",
    "    return (deck[0::4], deck[1::4], deck[2::4], deck[3::4])\n",
    "\n",
    "def play() -> None:\n",
    "    \"\"\"Play a 4-player card game\"\"\"\n",
    "    deck = create_deck(shuffle=True)\n",
    "    names = [\"P1\", \"P2\", \"P3\", \"P4\"]\n",
    "    hands = {n: h for n, h in zip(names, deal_hands(deck))}\n",
    "    \n",
    "    for name, cards in hands.items():\n",
    "        card_str = \" \".join(f\"{s}{r}\" for (s, r) in cards)\n",
    "        print(f\"{name}: {card_str}\")"
   ]
  },
  {
   "cell_type": "markdown",
   "metadata": {},
   "source": [
    "## The `Any` Type"
   ]
  },
  {
   "cell_type": "markdown",
   "metadata": {},
   "source": [
    "If you have a mix of types allowed, the `Any` type is what you'd go with"
   ]
  },
  {
   "cell_type": "code",
   "execution_count": 28,
   "metadata": {},
   "outputs": [],
   "source": [
    "import random\n",
    "from typing import Any, Sequence\n",
    "\n",
    "def choose(items: Sequence[Any]) -> Any:\n",
    "    return random.choice(items)"
   ]
  },
  {
   "cell_type": "markdown",
   "metadata": {},
   "source": [
    "But there's a better way"
   ]
  },
  {
   "cell_type": "markdown",
   "metadata": {},
   "source": [
    "## SubTypes"
   ]
  },
  {
   "cell_type": "code",
   "execution_count": 33,
   "metadata": {},
   "outputs": [
    {
     "data": {
      "text/plain": [
       "0"
      ]
     },
     "execution_count": 33,
     "metadata": {},
     "output_type": "execute_result"
    }
   ],
   "source": [
    "int(False)"
   ]
  },
  {
   "cell_type": "code",
   "execution_count": 32,
   "metadata": {},
   "outputs": [
    {
     "data": {
      "text/plain": [
       "1"
      ]
     },
     "execution_count": 32,
     "metadata": {},
     "output_type": "execute_result"
    }
   ],
   "source": [
    "int(True)"
   ]
  },
  {
   "cell_type": "code",
   "execution_count": 30,
   "metadata": {},
   "outputs": [
    {
     "data": {
      "text/plain": [
       "2"
      ]
     },
     "execution_count": 30,
     "metadata": {},
     "output_type": "execute_result"
    }
   ],
   "source": [
    "True + True"
   ]
  },
  {
   "cell_type": "code",
   "execution_count": 31,
   "metadata": {},
   "outputs": [
    {
     "data": {
      "text/plain": [
       "True"
      ]
     },
     "execution_count": 31,
     "metadata": {},
     "output_type": "execute_result"
    }
   ],
   "source": [
    "issubclass(bool, int)"
   ]
  },
  {
   "cell_type": "code",
   "execution_count": 35,
   "metadata": {},
   "outputs": [
    {
     "name": "stdout",
     "output_type": "stream",
     "text": [
      "2\n"
     ]
    }
   ],
   "source": [
    "def double(number: int) -> int:\n",
    "    return number * 2\n",
    "print(double(True))  # Note: This would pass mypy"
   ]
  },
  {
   "cell_type": "markdown",
   "metadata": {},
   "source": [
    "## Preserving Type Definitions (Avoiding `Any`)"
   ]
  },
  {
   "cell_type": "code",
   "execution_count": 38,
   "metadata": {},
   "outputs": [],
   "source": [
    "import random\n",
    "from typing import Sequence, TypeVar\n",
    "\n",
    "Choosable = TypeVar(\"Chooseable\")\n",
    "\n",
    "def choose(items: Sequence[Choosable]) -> Choosable:\n",
    "    return random.choices(items)\n",
    "\n",
    "names = [\"Guido\", \"Jukka\", \"Ivan\"]"
   ]
  },
  {
   "cell_type": "markdown",
   "metadata": {},
   "source": [
    "## Structural Subtyping"
   ]
  },
  {
   "cell_type": "markdown",
   "metadata": {},
   "source": [
    "- **nominal**: comparison between types are based on names and declarations. Python typing is mostly **nominal**, eg an `int` can be used in the place of a `float` because of a subtype relationship.\n",
    "- **structural**: comparisons between types are based on structure. One could define a structural type `Sized` that includes all instances defining `.__len__()` regardless of nominal type."
   ]
  },
  {
   "cell_type": "markdown",
   "metadata": {},
   "source": [
    "### Protocols"
   ]
  },
  {
   "cell_type": "markdown",
   "metadata": {},
   "source": [
    "In python, via [PEP 544](https://www.python.org/dev/peps/pep-0544/) we bring structural typing via protocols. `mypy` has [implemented most of PEP 544](https://mypy.readthedocs.io/en/latest/protocols.html)."
   ]
  },
  {
   "cell_type": "code",
   "execution_count": 39,
   "metadata": {},
   "outputs": [],
   "source": [
    "from typing import Sized\n",
    "\n",
    "# `Sized` will check that `.__len__()` has been implemented\n",
    "\n",
    "def len(obj: Sized) -> int:\n",
    "    return obj.__len__()"
   ]
  },
  {
   "cell_type": "markdown",
   "metadata": {},
   "source": [
    "#### Define your own Protocols"
   ]
  },
  {
   "cell_type": "code",
   "execution_count": 41,
   "metadata": {},
   "outputs": [],
   "source": [
    "from typing_extensions import Protocol\n",
    "# Must be explicitly installed via PyPI: `pip install typing-extensions`\n",
    "\n",
    "class Sized(Protocol):\n",
    "    def __len__(self) -> int: ...\n",
    "\n",
    "def len(obj: Sized) -> int:\n",
    "    return obj.__len__()"
   ]
  },
  {
   "cell_type": "markdown",
   "metadata": {},
   "source": [
    "### The `Optional` Type"
   ]
  },
  {
   "cell_type": "code",
   "execution_count": 42,
   "metadata": {},
   "outputs": [],
   "source": [
    "def player_order(names, start=None):\n",
    "    \"\"\"Rotate player order so that start goes first\"\"\"\n",
    "    if start is None:\n",
    "        start = choose(names)\n",
    "    start_idx = names.index(start)\n",
    "    return names[start_idx:] + names[:start_idx]"
   ]
  },
  {
   "cell_type": "code",
   "execution_count": null,
   "metadata": {},
   "outputs": [],
   "source": [
    "from typing import Sequence, Optional\n",
    "\n",
    "def player_order(\n",
    "    names: Sequence[str],\n",
    "    start: Optional[str] = None\n",
    ") -> Sequence[str]:\n",
    "    start_idx = names.index(start)\n",
    "    return names[start_idx:] + names[:start_idx]\n",
    "\n"
   ]
  },
  {
   "cell_type": "markdown",
   "metadata": {},
   "source": [
    "Notes:\n",
    "\n",
    "- `mypy` will assume a default argument of `None` even if you don't hint `Optional`\n",
    "- You can use `--no-implicit-optional` to disable this.\n"
   ]
  },
  {
   "cell_type": "markdown",
   "metadata": {},
   "source": [
    "```bash\n",
    "$ mypy player_order.py\n",
    "\n",
    "player_order.py:8: error: Argument 1 to \"index\" of \"list\" has incompatible\n",
    "                          type \"Optional[str]\"; expected \"str\"\n",
    "```\n",
    "\n",
    "See how there's now a warning to handle the `None` case?"
   ]
  },
  {
   "cell_type": "markdown",
   "metadata": {},
   "source": [
    "## Object-Oriented"
   ]
  },
  {
   "cell_type": "code",
   "execution_count": 43,
   "metadata": {},
   "outputs": [
    {
     "name": "stdout",
     "output_type": "stream",
     "text": [
      "Fido says woof!\n",
      "Pluto says woof!\n"
     ]
    }
   ],
   "source": [
    "from datetime import date\n",
    "from typing import Type, TypeVar\n",
    "\n",
    "TAnimal = TypeVar(\"TAnimal\", bound=\"Animal\")\n",
    "\n",
    "class Animal:\n",
    "    def __init__(self, name: str, birthday: date) -> None:\n",
    "        self.name = name\n",
    "        self.birthday = birthday\n",
    "\n",
    "    @classmethod\n",
    "    def newborn(cls: Type[TAnimal], name: str) -> TAnimal:\n",
    "        return cls(name, date.today())\n",
    "\n",
    "    def twin(self: TAnimal, name: str) -> TAnimal:\n",
    "        cls = self.__class__\n",
    "        return cls(name, self.birthday)\n",
    "\n",
    "class Dog(Animal):\n",
    "    def bark(self) -> None:\n",
    "        print(f\"{self.name} says woof!\")\n",
    "\n",
    "fido = Dog.newborn(\"Fido\")\n",
    "pluto = fido.twin(\"Pluto\")\n",
    "fido.bark()\n",
    "pluto.bark()"
   ]
  },
  {
   "cell_type": "markdown",
   "metadata": {},
   "source": [
    "## `*args, **kwargs`"
   ]
  },
  {
   "cell_type": "code",
   "execution_count": 44,
   "metadata": {},
   "outputs": [],
   "source": [
    "class Game:\n",
    "    def __init__(self, *names: str) -> None:\n",
    "        deck = Deck.create(shuffle=True)\n",
    "        self.names = (list(names) + \"P1 P2 P3 P4\".split())[:4]\n",
    "        self.hands = {\n",
    "            n: Player(n, h) for n, h in zip(self.names, deck.deal(4))\n",
    "        }"
   ]
  },
  {
   "cell_type": "markdown",
   "metadata": {},
   "source": [
    "Note that in this case, we don't use `*names: Sequence[str]`, but rather **`*names: str`**"
   ]
  },
  {
   "cell_type": "markdown",
   "metadata": {},
   "source": [
    "## Callables"
   ]
  },
  {
   "cell_type": "markdown",
   "metadata": {},
   "source": [
    "If you need to hint a function as an argument or parameter to another function, then you'd need to use `Callable`"
   ]
  },
  {
   "cell_type": "code",
   "execution_count": 46,
   "metadata": {},
   "outputs": [
    {
     "name": "stdout",
     "output_type": "stream",
     "text": [
      "Hello Jekyll\n",
      "Hello Jekyll\n"
     ]
    }
   ],
   "source": [
    "from typing import Callable\n",
    "\n",
    "def do_twice(func: Callable[[str], str], argument: str) -> None:\n",
    "    print(func(argument))\n",
    "    print(func(argument))\n",
    "\n",
    "def create_greeting(name: str) -> str:\n",
    "    return f\"Hello {name}\"\n",
    "\n",
    "do_twice(create_greeting, \"Jekyll\")"
   ]
  },
  {
   "cell_type": "code",
   "execution_count": 47,
   "metadata": {},
   "outputs": [],
   "source": [
    "from typing import Callable\n",
    "from mypy_extensions import (Arg, DefaultArg, NamedArg,\n",
    "                             DefaultNamedArg, VarArg, KwArg)\n",
    "\n",
    "def func(__a: int,  # This convention is for nameless arguments\n",
    "         b: int,\n",
    "         c: int = 0,\n",
    "         *args: int,\n",
    "         d: int,\n",
    "         e: int = 0,\n",
    "         **kwargs: int) -> int:\n",
    "    ...\n",
    "\n",
    "F = Callable[[int,  # Or Arg(int)\n",
    "              Arg(int, 'b'),\n",
    "              DefaultArg(int, 'c'),\n",
    "              VarArg(int),\n",
    "              NamedArg(int, 'd'),\n",
    "              DefaultNamedArg(int, 'e'),\n",
    "              KwArg(int)],\n",
    "             int]\n",
    "\n",
    "f: F = func"
   ]
  },
  {
   "cell_type": "markdown",
   "metadata": {},
   "source": [
    "Via [mypy extended callables](https://mypy.readthedocs.io/en/latest/additional_features.html#extended-callable-types)"
   ]
  },
  {
   "cell_type": "code",
   "execution_count": null,
   "metadata": {},
   "outputs": [],
   "source": []
  }
 ],
 "metadata": {
  "kernelspec": {
   "display_name": "Python 3",
   "language": "python",
   "name": "python3"
  },
  "language_info": {
   "codemirror_mode": {
    "name": "ipython",
    "version": 3
   },
   "file_extension": ".py",
   "mimetype": "text/x-python",
   "name": "python",
   "nbconvert_exporter": "python",
   "pygments_lexer": "ipython3",
   "version": "3.7.3"
  }
 },
 "nbformat": 4,
 "nbformat_minor": 2
}
